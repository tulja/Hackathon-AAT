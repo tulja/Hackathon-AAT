{
 "cells": [
  {
   "cell_type": "code",
   "execution_count": 51,
   "metadata": {},
   "outputs": [
    {
     "name": "stdout",
     "output_type": "stream",
     "text": [
      "(225745, 79)\n",
      "['BENIGN' 'DDoS']\n"
     ]
    }
   ],
   "source": [
    "import pandas as pd\n",
    "import scipy \n",
    "import numpy as np\n",
    "import os\n",
    "data=pd.read_csv('Friday-WorkingHours-Afternoon-DDos.pcap_ISCX.csv')\n",
    "print data.shape\n",
    "print data[' Label'].unique()\n",
    "data=data.drop(['Flow Bytes/s',' Flow Packets/s'],axis=1)"
   ]
  },
  {
   "cell_type": "code",
   "execution_count": 52,
   "metadata": {},
   "outputs": [
    {
     "name": "stdout",
     "output_type": "stream",
     "text": [
      "(225745, 77)\n",
      "('Deleting ', ' Bwd PSH Flags')\n",
      "('Deleting ', ' Fwd URG Flags')\n",
      "('Deleting ', ' Bwd URG Flags')\n",
      "('Deleting ', ' CWE Flag Count')\n",
      "('Deleting ', 'Fwd Avg Bytes/Bulk')\n",
      "('Deleting ', ' Fwd Avg Packets/Bulk')\n",
      "('Deleting ', ' Fwd Avg Bulk Rate')\n",
      "('Deleting ', ' Bwd Avg Bytes/Bulk')\n",
      "('Deleting ', ' Bwd Avg Packets/Bulk')\n",
      "('Deleting ', 'Bwd Avg Bulk Rate')\n"
     ]
    }
   ],
   "source": [
    "print data.shape\n",
    "for i in data.columns:\n",
    "    tmp=np.asarray(data[i])\n",
    "    if(np.count_nonzero(tmp)==0):\n",
    "        print(\"Deleting \",i)\n",
    "        data=data.drop(i,axis=1)\n",
    "    \n"
   ]
  },
  {
   "cell_type": "code",
   "execution_count": 54,
   "metadata": {},
   "outputs": [
    {
     "name": "stdout",
     "output_type": "stream",
     "text": [
      "(225745L, 66L)\n",
      "(225745L,)\n"
     ]
    }
   ],
   "source": [
    "from sklearn import preprocessing\n",
    "from sklearn.model_selection import train_test_split\n",
    "data_=np.asarray(data)\n",
    "length=len(data_[0])\n",
    "X=data_[:,0:length-1]\n",
    "Labels=data_[:,-1]\n",
    "le = preprocessing.LabelEncoder()\n",
    "Y=le.fit_transform(Labels)\n",
    "#print Y\n",
    "X_train, X_test, y_train, y_test = train_test_split(X, Y, test_size=0.30, random_state=42)\n",
    "print np.shape(X)\n",
    "print np.shape(Y)"
   ]
  },
  {
   "cell_type": "code",
   "execution_count": 53,
   "metadata": {},
   "outputs": [
    {
     "name": "stdout",
     "output_type": "stream",
     "text": [
      "65\n",
      "Index([u' Flow Duration', u' Total Fwd Packets', u' Total Backward Packets',\n",
      "       u'Total Length of Fwd Packets', u' Total Length of Bwd Packets',\n",
      "       u' Fwd Packet Length Max', u' Fwd Packet Length Min',\n",
      "       u' Fwd Packet Length Mean', u' Fwd Packet Length Std',\n",
      "       u'Bwd Packet Length Max', u' Bwd Packet Length Min',\n",
      "       u' Bwd Packet Length Mean', u' Bwd Packet Length Std',\n",
      "       u' Flow IAT Mean', u' Flow IAT Std', u' Flow IAT Max', u' Flow IAT Min',\n",
      "       u'Fwd IAT Total', u' Fwd IAT Mean', u' Fwd IAT Std', u' Fwd IAT Max',\n",
      "       u' Fwd IAT Min', u'Bwd IAT Total', u' Bwd IAT Mean', u' Bwd IAT Std',\n",
      "       u' Bwd IAT Max', u' Bwd IAT Min', u'Fwd PSH Flags',\n",
      "       u' Fwd Header Length', u' Bwd Header Length', u'Fwd Packets/s',\n",
      "       u' Bwd Packets/s', u' Min Packet Length', u' Max Packet Length',\n",
      "       u' Packet Length Mean', u' Packet Length Std',\n",
      "       u' Packet Length Variance', u'FIN Flag Count', u' SYN Flag Count',\n",
      "       u' RST Flag Count', u' PSH Flag Count', u' ACK Flag Count',\n",
      "       u' URG Flag Count', u' ECE Flag Count', u' Down/Up Ratio',\n",
      "       u' Average Packet Size', u' Avg Fwd Segment Size',\n",
      "       u' Avg Bwd Segment Size', u' Fwd Header Length.1',\n",
      "       u'Subflow Fwd Packets', u' Subflow Fwd Bytes', u' Subflow Bwd Packets',\n",
      "       u' Subflow Bwd Bytes', u'Init_Win_bytes_forward',\n",
      "       u' Init_Win_bytes_backward', u' act_data_pkt_fwd',\n",
      "       u' min_seg_size_forward', u'Active Mean', u' Active Std',\n",
      "       u' Active Max', u' Active Min', u'Idle Mean', u' Idle Std',\n",
      "       u' Idle Max', u' Idle Min'],\n",
      "      dtype='object')\n"
     ]
    }
   ],
   "source": [
    "cols_to_norm = data.columns\n",
    "cols_to_norm=cols_to_norm[1:len(cols_to_norm)-1]\n",
    "print len(cols_to_norm)\n",
    "print cols_to_norm\n",
    "data[cols_to_norm] = data[cols_to_norm].apply(lambda x: (x - x.min()) / (x.max() - x.min()))"
   ]
  },
  {
   "cell_type": "code",
   "execution_count": 55,
   "metadata": {},
   "outputs": [],
   "source": [
    "from sklearn.naive_bayes import GaussianNB\n",
    "model = GaussianNB()\n",
    "model.fit(X_train,y_train)\n",
    "\n",
    "#Predict Output\n",
    "predicted_train=model.predict(X_train)\n",
    "predicted_test= model.predict(X_test)"
   ]
  },
  {
   "cell_type": "code",
   "execution_count": 56,
   "metadata": {},
   "outputs": [
    {
     "name": "stdout",
     "output_type": "stream",
     "text": [
      "[1 0 1 ... 1 1 1]\n",
      "[1 0 0 ... 1 1 1]\n",
      "             precision    recall  f1-score   support\n",
      "\n",
      "          0       1.00      0.42      0.59     29262\n",
      "          1       0.69      1.00      0.82     38462\n",
      "\n",
      "avg / total       0.83      0.75      0.72     67724\n",
      "\n"
     ]
    }
   ],
   "source": [
    "from sklearn.metrics import classification_report\n",
    "print predicted_test\n",
    "print y_test\n",
    "print classification_report(y_test, predicted_test)"
   ]
  },
  {
   "cell_type": "code",
   "execution_count": 57,
   "metadata": {},
   "outputs": [
    {
     "name": "stdout",
     "output_type": "stream",
     "text": [
      "(67724L,)\n",
      "(67724L,)\n"
     ]
    }
   ],
   "source": [
    "print np.shape(y_test)\n",
    "print np.shape(predicted_test)"
   ]
  },
  {
   "cell_type": "code",
   "execution_count": 7,
   "metadata": {},
   "outputs": [
    {
     "name": "stdout",
     "output_type": "stream",
     "text": [
      "Testing\n",
      "0.8090780225621641\n",
      "Training\n",
      "0.8079052784123629\n"
     ]
    }
   ],
   "source": [
    "from sklearn.metrics import accuracy_score\n",
    "print \"Testing\"\n",
    "print accuracy_score(y_test, predicted_test)\n",
    "print \"Training\"\n",
    "print accuracy_score(y_train, predicted_train)\n",
    "#print data['Flow Bytes/s']"
   ]
  },
  {
   "cell_type": "code",
   "execution_count": 58,
   "metadata": {},
   "outputs": [
    {
     "name": "stdout",
     "output_type": "stream",
     "text": [
      "             precision    recall  f1-score   support\n",
      "\n",
      "          0       1.00      1.00      1.00     29262\n",
      "          1       1.00      1.00      1.00     38462\n",
      "\n",
      "avg / total       1.00      1.00      1.00     67724\n",
      "\n"
     ]
    },
    {
     "data": {
      "text/plain": [
       "0.9998966393006911"
      ]
     },
     "execution_count": 58,
     "metadata": {},
     "output_type": "execute_result"
    }
   ],
   "source": [
    "from sklearn.neighbors import KNeighborsClassifier\n",
    "neigh = KNeighborsClassifier(n_neighbors=3)\n",
    "neigh.fit(X_train, y_train) \n",
    "\n",
    "predict_train=neigh.predict(X_train)\n",
    "predict_test=neigh.predict(X_test)\n",
    "#Predict the response for test dataset\n",
    "\n",
    "print classification_report(y_test, predict_test)\n",
    "accuracy_score(y_test,predict_test)"
   ]
  },
  {
   "cell_type": "code",
   "execution_count": 59,
   "metadata": {},
   "outputs": [
    {
     "name": "stdout",
     "output_type": "stream",
     "text": [
      "             precision    recall  f1-score   support\n",
      "\n",
      "          0       1.00      1.00      1.00     68456\n",
      "          1       1.00      1.00      1.00     89565\n",
      "\n",
      "avg / total       1.00      1.00      1.00    158021\n",
      "\n"
     ]
    },
    {
     "data": {
      "text/plain": [
       "0.9999050759076326"
      ]
     },
     "execution_count": 59,
     "metadata": {},
     "output_type": "execute_result"
    }
   ],
   "source": [
    "print classification_report(y_train, predict_train)\n",
    "accuracy_score(y_train,predict_train)"
   ]
  },
  {
   "cell_type": "code",
   "execution_count": 60,
   "metadata": {},
   "outputs": [
    {
     "name": "stdout",
     "output_type": "stream",
     "text": [
      "66\n"
     ]
    }
   ],
   "source": [
    "import pandas as pd\n",
    "from sklearn.ensemble import RandomForestClassifier\n",
    "from sklearn.feature_selection import SelectFromModel\n",
    "#X_train,y_train,X_test,y_test = train_test_split(data,test_size=0.3)\n",
    "sel = SelectFromModel(RandomForestClassifier(n_estimators = 3))\n",
    "sel.fit(X_train, y_train)\n",
    "#sel.get_support()\n",
    "selected_feat=sel.get_support()\n",
    "print len(selected_feat)\n",
    "#pd.series(sel.estimator_,feature_importances_,.ravel()).hist()"
   ]
  },
  {
   "cell_type": "code",
   "execution_count": 61,
   "metadata": {},
   "outputs": [
    {
     "name": "stdout",
     "output_type": "stream",
     "text": [
      "[False False False False  True False  True False  True False False False\n",
      " False False False False False False  True False  True False False False\n",
      " False False False False False False  True False False False False  True\n",
      " False  True False False False False False False False False False False\n",
      " False False  True  True False False False False False False False False\n",
      " False False False False False False]\n",
      "[False False False False  True False  True False  True False False False\n",
      " False False False False False False  True False  True False False False\n",
      " False False False False False False  True False False False False  True\n",
      " False  True False False False False False False False False False False\n",
      " False False  True  True False False False False False False False False\n",
      " False False False False False False  True]\n"
     ]
    }
   ],
   "source": [
    "selected=np.append(selected_feat,True)\n",
    "print selected_feat\n",
    "print selected"
   ]
  },
  {
   "cell_type": "code",
   "execution_count": 62,
   "metadata": {},
   "outputs": [
    {
     "name": "stdout",
     "output_type": "stream",
     "text": [
      "('Deleting ', False)\n",
      "('Deleting ', False)\n",
      "('Deleting ', False)\n",
      "('Deleting ', False)\n",
      "('Deleting ', False)\n",
      "('Deleting ', False)\n",
      "('Deleting ', False)\n",
      "('Deleting ', False)\n",
      "('Deleting ', False)\n",
      "('Deleting ', False)\n",
      "('Deleting ', False)\n",
      "('Deleting ', False)\n",
      "('Deleting ', False)\n",
      "('Deleting ', False)\n",
      "('Deleting ', False)\n",
      "('Deleting ', False)\n",
      "('Deleting ', False)\n",
      "('Deleting ', False)\n",
      "('Deleting ', False)\n",
      "('Deleting ', False)\n",
      "('Deleting ', False)\n",
      "('Deleting ', False)\n",
      "('Deleting ', False)\n",
      "('Deleting ', False)\n",
      "('Deleting ', False)\n",
      "('Deleting ', False)\n",
      "('Deleting ', False)\n",
      "('Deleting ', False)\n",
      "('Deleting ', False)\n",
      "('Deleting ', False)\n",
      "('Deleting ', False)\n",
      "('Deleting ', False)\n",
      "('Deleting ', False)\n",
      "('Deleting ', False)\n",
      "('Deleting ', False)\n",
      "('Deleting ', False)\n",
      "('Deleting ', False)\n",
      "('Deleting ', False)\n",
      "('Deleting ', False)\n",
      "('Deleting ', False)\n",
      "('Deleting ', False)\n",
      "('Deleting ', False)\n",
      "('Deleting ', False)\n",
      "('Deleting ', False)\n",
      "('Deleting ', False)\n",
      "('Deleting ', False)\n",
      "('Deleting ', False)\n",
      "('Deleting ', False)\n",
      "('Deleting ', False)\n",
      "('Deleting ', False)\n",
      "('Deleting ', False)\n",
      "('Deleting ', False)\n",
      "('Deleting ', False)\n",
      "('Deleting ', False)\n",
      "('Deleting ', False)\n",
      "('Deleting ', False)\n"
     ]
    }
   ],
   "source": [
    "data_top_features=data\n",
    "columns=data.columns\n",
    "for i in range(len(selected)):\n",
    "    if (selected[i]!=True):\n",
    "        print(\"Deleting \",selected[i])\n",
    "        data_top_features=data_top_features.drop(columns[i],axis=1)\n",
    "        "
   ]
  },
  {
   "cell_type": "code",
   "execution_count": 76,
   "metadata": {},
   "outputs": [
    {
     "name": "stdout",
     "output_type": "stream",
     "text": [
      "Index([u'Total Length of Fwd Packets', u' Fwd Packet Length Max',\n",
      "       u' Fwd Packet Length Mean', u'Fwd IAT Total', u' Fwd IAT Std',\n",
      "       u' Bwd Header Length', u' Packet Length Mean',\n",
      "       u' Packet Length Variance', u'Subflow Fwd Packets',\n",
      "       u' Subflow Fwd Bytes', u' Label'],\n",
      "      dtype='object')\n"
     ]
    }
   ],
   "source": [
    "print data_top_features.columns"
   ]
  },
  {
   "cell_type": "code",
   "execution_count": 73,
   "metadata": {},
   "outputs": [
    {
     "name": "stdout",
     "output_type": "stream",
     "text": [
      "9\n",
      "Index([u' Fwd Packet Length Max', u' Fwd Packet Length Mean', u'Fwd IAT Total',\n",
      "       u' Fwd IAT Std', u' Bwd Header Length', u' Packet Length Mean',\n",
      "       u' Packet Length Variance', u'Subflow Fwd Packets',\n",
      "       u' Subflow Fwd Bytes'],\n",
      "      dtype='object')\n"
     ]
    }
   ],
   "source": [
    "cols_to_norm_top = data_top_features.columns\n",
    "cols_to_norm_top=cols_to_norm_top[1:len(cols_to_norm_top)-1]\n",
    "print len(cols_to_norm_top)\n",
    "print cols_to_norm_top\n",
    "data_top_features[cols_to_norm_top] = data[cols_to_norm_top].apply(lambda x: (x - x.min()) / (x.max() - x.min()))"
   ]
  },
  {
   "cell_type": "code",
   "execution_count": 90,
   "metadata": {},
   "outputs": [],
   "source": [
    "data_top=np.asarray(data_top_features)\n",
    "length_top=len(data_top[0])\n",
    "X_top=data_top[:,0:length_top-1]\n",
    "Labels_top=data_top[:,-1]\n",
    "le_top = preprocessing.LabelEncoder()\n",
    "Y_top=le.fit_transform(Labels)\n",
    "#print Y\n",
    "X_train_top, X_test_top, y_train_top, y_test_top = train_test_split(X_top, Y_top, test_size=0.40, random_state=42)"
   ]
  },
  {
   "cell_type": "code",
   "execution_count": 91,
   "metadata": {},
   "outputs": [
    {
     "name": "stdout",
     "output_type": "stream",
     "text": [
      "[[0.0003824885799838262 0.0029965753424657533 0.009050943884147919 ...\n",
      "  3.215625e-05 0.0005178663904712584 0.0003824885799838262]\n",
      " [0.0633892859484624 0.75 0.6 ... 0.43288843031249996\n",
      "  0.0020714655618850335 0.0633892859484624]\n",
      " [0.0001311389417087404 0.0005136986301369863 0.0015515903801396431 ...\n",
      "  0.0 0.0015535991714137752 0.0001311389417087404]\n",
      " ...\n",
      " [0.00014206718685113546 0.0017123287671232876 0.002241186104732351 ...\n",
      "  0.16183365129464286 0.0010357327809425167 0.00014206718685113546]\n",
      " [0.06342207068388958 0.875 0.50025859839669 ... 0.5089285714285714\n",
      "  0.002589331952356292 0.06342207068388958]\n",
      " [0.00016392367713592552 0.0005136986301369863 0.0015515903801396431 ...\n",
      "  0.0 0.0020714655618850335 0.00016392367713592552]]\n",
      "[0 0 1 ... 1 0 1]\n"
     ]
    }
   ],
   "source": [
    "print X_train_top\n",
    "print y_train_top"
   ]
  },
  {
   "cell_type": "code",
   "execution_count": 93,
   "metadata": {},
   "outputs": [
    {
     "name": "stdout",
     "output_type": "stream",
     "text": [
      "             precision    recall  f1-score   support\n",
      "\n",
      "          0       1.00      1.00      1.00     39152\n",
      "          1       1.00      1.00      1.00     51146\n",
      "\n",
      "avg / total       1.00      1.00      1.00     90298\n",
      "\n",
      "0.9987818113357992\n",
      "0.9991288105310564\n"
     ]
    }
   ],
   "source": [
    "neigh_top = KNeighborsClassifier(n_neighbors=5)\n",
    "neigh_top.fit(X_train_top, y_train_top) \n",
    "\n",
    "predict_train_top=neigh_top.predict(X_train_top)\n",
    "predict_test_top=neigh_top.predict(X_test_top)\n",
    "#Predict the response for test dataset\n",
    "\n",
    "print classification_report(y_test_top, predict_test_top)\n",
    "print accuracy_score(y_test_top,predict_test_top)\n",
    "\n",
    "print accuracy_score(y_train_top,predict_train_top)"
   ]
  },
  {
   "cell_type": "code",
   "execution_count": 99,
   "metadata": {},
   "outputs": [
    {
     "data": {
      "text/plain": [
       "array([4.75248244e-01, 3.41042580e-01, 1.37515907e-01, 2.98192133e-02,\n",
       "       1.08343693e-02, 4.44462541e-03, 6.96794918e-04, 3.81395894e-04,\n",
       "       1.68705792e-05, 3.37324707e-32])"
      ]
     },
     "execution_count": 99,
     "metadata": {},
     "output_type": "execute_result"
    }
   ],
   "source": [
    "from sklearn.decomposition import PCA\n",
    "pca = PCA()\n",
    "x_pca = pca.fit_transform(X_train_top)\n",
    "x_pca = pd.DataFrame(x_pca)\n",
    "x_pca.head()\n",
    "explained_variance = pca.explained_variance_ratio_\n",
    "explained_variance"
   ]
  },
  {
   "cell_type": "code",
   "execution_count": 108,
   "metadata": {},
   "outputs": [
    {
     "name": "stdout",
     "output_type": "stream",
     "text": [
      "(135447L, 10L)\n",
      "(135447L,)\n"
     ]
    }
   ],
   "source": [
    "print np.shape(X_train_top)\n",
    "print np.shape(y_train_top)"
   ]
  },
  {
   "cell_type": "code",
   "execution_count": 110,
   "metadata": {},
   "outputs": [],
   "source": [
    "pca = PCA(n_components=3)\n",
    "pca.fit(X_train_top)\n",
    "X = pca.transform(X_train_top)\n",
    "\n",
    "#finalDf = pd.concat([principalDf,y_train_top], axis = 1)"
   ]
  },
  {
   "cell_type": "code",
   "execution_count": 112,
   "metadata": {},
   "outputs": [],
   "source": [
    "#colors = (\"red\", \"green\", \"blue\")\n",
    "colors=[]\n",
    "for i in y_train_top:\n",
    "    if i==0:\n",
    "        colors.append(\"red\")\n",
    "    else:\n",
    "        colors.append(\"green\")"
   ]
  },
  {
   "cell_type": "code",
   "execution_count": 115,
   "metadata": {},
   "outputs": [
    {
     "name": "stderr",
     "output_type": "stream",
     "text": [
      "C:\\Program Files (x86)\\Anaconda2\\lib\\site-packages\\ipykernel_launcher.py:11: UserWarning: Requested projection is different from current axis projection, creating new axis with requested projection.\n",
      "  # This is added back by InteractiveShellApp.init_path()\n",
      "No handlers could be found for logger \"matplotlib.legend\"\n"
     ]
    },
    {
     "data": {
      "image/png": "[encoded data removed]",
      "text/plain": [
       "<matplotlib.figure.Figure at 0x3241fdd8>"
      ]
     },
     "metadata": {},
     "output_type": "display_data"
    }
   ],
   "source": [
    "\n",
    "import matplotlib.pyplot as plt\n",
    "from mpl_toolkits.mplot3d import axes3d\n",
    "\n",
    "\n",
    "\n",
    "\n",
    "# Create plot\n",
    "fig = plt.figure()\n",
    "ax = fig.add_subplot(1, 1, 1, axisbg=\"1.0\")\n",
    "ax = fig.gca(projection='3d')\n",
    "\n",
    "for data, color in zip(X, colors):\n",
    "    x, y, z = data\n",
    "    ax.scatter(x, y, z, alpha=0.8, c=color, edgecolors='none', s=30)\n",
    "\n",
    "plt.title('Matplot 3d scatter plot')\n",
    "plt.legend(loc=2)\n",
    "plt.show()\n"
   ]
  },
  {
   "cell_type": "code",
   "execution_count": 117,
   "metadata": {},
   "outputs": [],
   "source": []
  },
  {
   "cell_type": "code",
   "execution_count": null,
   "metadata": {},
   "outputs": [],
   "source": []
  }
 ],
 "metadata": {
  "kernelspec": {
   "display_name": "Python 2",
   "language": "python",
   "name": "python2"
  },
  "language_info": {
   "codemirror_mode": {
    "name": "ipython",
    "version": 2
   },
   "file_extension": ".py",
   "mimetype": "text/x-python",
   "name": "python",
   "nbconvert_exporter": "python",
   "pygments_lexer": "ipython2",
   "version": "2.7.14"
  }
 },
 "nbformat": 4,
 "nbformat_minor": 2
}
