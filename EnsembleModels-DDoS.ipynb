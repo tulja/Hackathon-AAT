{
 "cells": [
  {
   "cell_type": "code",
   "execution_count": 1,
   "metadata": {},
   "outputs": [
    {
     "name": "stderr",
     "output_type": "stream",
     "text": [
      "C:\\Program Files (x86)\\Anaconda3\\lib\\site-packages\\IPython\\core\\interactiveshell.py:2728: DtypeWarning: Columns (14,15) have mixed types. Specify dtype option on import or set low_memory=False.\n",
      "  interactivity=interactivity, compiler=compiler, result=result)\n"
     ]
    },
    {
     "name": "stdout",
     "output_type": "stream",
     "text": [
      "(225745, 79)\n",
      "['BENIGN' 'DDoS']\n",
      "Dropping the columns of \n",
      "Index([' Bwd PSH Flags', ' Fwd URG Flags', ' Bwd URG Flags', ' CWE Flag Count',\n",
      "       'Fwd Avg Bytes/Bulk', ' Fwd Avg Packets/Bulk', ' Fwd Avg Bulk Rate',\n",
      "       ' Bwd Avg Bytes/Bulk', ' Bwd Avg Packets/Bulk', 'Bwd Avg Bulk Rate'],\n",
      "      dtype='object')\n"
     ]
    }
   ],
   "source": [
    "import pandas as pd\n",
    "import scipy \n",
    "import numpy as np\n",
    "import os\n",
    "from sklearn.preprocessing import LabelEncoder\n",
    "from sklearn.preprocessing import StandardScaler\n",
    "# visulaize the important characteristics of the dataset\n",
    "import matplotlib.pyplot as plt\n",
    "\n",
    "\n",
    "df=pd.read_csv(r\"C:\\Users\\tbuyakar\\OneDrive - SecureWorks Inc\\Desktop\\Hackathon\\Friday-WorkingHours-Afternoon-DDos.pcap_ISCX.csv\")\n",
    "print(df.shape)\n",
    "print(df[' Label'].unique())\n",
    "#data=data.drop(['Flow Bytes/s',' Flow Packets/s'],axis=1)\n",
    "nunique = df.apply(pd.Series.nunique)\n",
    "cols_to_drop = nunique[nunique == 1].index\n",
    "print(\"Dropping the columns of \")\n",
    "print(cols_to_drop)\n",
    "#df = df.drop(cols_to_drop, axis=1)\n",
    "#df = df.drop(['Flow Bytes/s', ' Flow Packets/s'],axis=1)"
   ]
  },
  {
   "cell_type": "code",
   "execution_count": 2,
   "metadata": {},
   "outputs": [
    {
     "name": "stdout",
     "output_type": "stream",
     "text": [
      "(225745, 79)\n"
     ]
    }
   ],
   "source": [
    "print(df.shape)"
   ]
  },
  {
   "cell_type": "code",
   "execution_count": 3,
   "metadata": {},
   "outputs": [
    {
     "name": "stdout",
     "output_type": "stream",
     "text": [
      "(225745, 78)\n",
      "(225745,)\n"
     ]
    }
   ],
   "source": [
    "from sklearn import preprocessing\n",
    "from sklearn.model_selection import train_test_split\n",
    "from sklearn.preprocessing import Imputer\n",
    "data_=np.asarray(df)\n",
    "length=len(data_[0])\n",
    "X=data_[:,0:length-1]\n",
    "Labels=data_[:,-1]\n",
    "le = preprocessing.LabelEncoder()\n",
    "Y=le.fit_transform(Labels)\n",
    "\n",
    "X[X == 'Infinity'] = np.nan\n",
    "X[X=='NaN'] = np.nan\n",
    "imputer = Imputer(missing_values=np.nan,strategy = 'mean')\n",
    "imputer = imputer.fit(X)\n",
    "X = imputer.transform(X)\n",
    "\n",
    "#print Y\n",
    "X_train, X_test, y_train, y_test = train_test_split(X, Y, test_size=0.30, random_state=42)\n",
    "print(np.shape(X))\n",
    "print(np.shape(Y))"
   ]
  },
  {
   "cell_type": "code",
   "execution_count": null,
   "metadata": {},
   "outputs": [],
   "source": []
  },
  {
   "cell_type": "code",
   "execution_count": 4,
   "metadata": {},
   "outputs": [],
   "source": [
    "from sklearn.ensemble import RandomForestClassifier\n",
    "clf = RandomForestClassifier(n_estimators=6,max_features=60)\n",
    "clf.fit(X_train,y_train)\n",
    "\n",
    "#Predict Output\n",
    "predicted= clf.predict(X_test)\n",
    "predict_train=clf.predict(X_train)"
   ]
  },
  {
   "cell_type": "code",
   "execution_count": 5,
   "metadata": {},
   "outputs": [
    {
     "name": "stdout",
     "output_type": "stream",
     "text": [
      "[1 0 0 ... 1 1 1]\n",
      "[1 0 0 ... 1 1 1]\n",
      "             precision    recall  f1-score   support\n",
      "\n",
      "          0       1.00      1.00      1.00     29262\n",
      "          1       1.00      1.00      1.00     38462\n",
      "\n",
      "avg / total       1.00      1.00      1.00     67724\n",
      "\n",
      "             precision    recall  f1-score   support\n",
      "\n",
      "          0       1.00      1.00      1.00     68456\n",
      "          1       1.00      1.00      1.00     89565\n",
      "\n",
      "avg / total       1.00      1.00      1.00    158021\n",
      "\n"
     ]
    }
   ],
   "source": [
    "from sklearn.metrics import classification_report\n",
    "print(predicted)\n",
    "print(y_test)\n",
    "print(classification_report(y_test, predicted))\n",
    "print(classification_report(y_train, predict_train))"
   ]
  },
  {
   "cell_type": "code",
   "execution_count": 6,
   "metadata": {},
   "outputs": [
    {
     "data": {
      "text/plain": [
       "0.999987343454351"
      ]
     },
     "execution_count": 6,
     "metadata": {},
     "output_type": "execute_result"
    }
   ],
   "source": [
    "from sklearn.metrics import accuracy_score\n",
    "accuracy_score(y_test, predicted)\n",
    "\n",
    "accuracy_score(y_train, predict_train)"
   ]
  },
  {
   "cell_type": "code",
   "execution_count": 22,
   "metadata": {},
   "outputs": [
    {
     "name": "stderr",
     "output_type": "stream",
     "text": [
      "C:\\Program Files (x86)\\Anaconda3\\lib\\site-packages\\IPython\\core\\interactiveshell.py:2728: DtypeWarning: Columns (14,15) have mixed types. Specify dtype option on import or set low_memory=False.\n",
      "  interactivity=interactivity, compiler=compiler, result=result)\n"
     ]
    },
    {
     "name": "stdout",
     "output_type": "stream",
     "text": [
      "Dropping the columns of \n",
      "Index([' Bwd PSH Flags', ' Fwd URG Flags', ' Bwd URG Flags', ' CWE Flag Count',\n",
      "       'Fwd Avg Bytes/Bulk', ' Fwd Avg Packets/Bulk', ' Fwd Avg Bulk Rate',\n",
      "       ' Bwd Avg Bytes/Bulk', ' Bwd Avg Packets/Bulk', 'Bwd Avg Bulk Rate'],\n",
      "      dtype='object')\n",
      "Index([' Destination Port', ' Flow Duration', ' Total Fwd Packets',\n",
      "       ' Total Backward Packets', 'Total Length of Fwd Packets',\n",
      "       ' Total Length of Bwd Packets', ' Fwd Packet Length Max',\n",
      "       ' Fwd Packet Length Min', ' Fwd Packet Length Mean',\n",
      "       ' Fwd Packet Length Std', 'Bwd Packet Length Max',\n",
      "       ' Bwd Packet Length Min', ' Bwd Packet Length Mean',\n",
      "       ' Bwd Packet Length Std', 'Flow Bytes/s', ' Flow Packets/s',\n",
      "       ' Flow IAT Mean', ' Flow IAT Std', ' Flow IAT Max', ' Flow IAT Min',\n",
      "       'Fwd IAT Total', ' Fwd IAT Mean', ' Fwd IAT Std', ' Fwd IAT Max',\n",
      "       ' Fwd IAT Min', 'Bwd IAT Total', ' Bwd IAT Mean', ' Bwd IAT Std',\n",
      "       ' Bwd IAT Max', ' Bwd IAT Min', 'Fwd PSH Flags', ' Bwd PSH Flags',\n",
      "       ' Fwd URG Flags', ' Bwd URG Flags', ' Fwd Header Length',\n",
      "       ' Bwd Header Length', 'Fwd Packets/s', ' Bwd Packets/s',\n",
      "       ' Min Packet Length', ' Max Packet Length', ' Packet Length Mean',\n",
      "       ' Packet Length Std', ' Packet Length Variance', 'FIN Flag Count',\n",
      "       ' SYN Flag Count', ' RST Flag Count', ' PSH Flag Count',\n",
      "       ' ACK Flag Count', ' URG Flag Count', ' CWE Flag Count',\n",
      "       ' ECE Flag Count', ' Down/Up Ratio', ' Average Packet Size',\n",
      "       ' Avg Fwd Segment Size', ' Avg Bwd Segment Size',\n",
      "       ' Fwd Header Length.1', 'Fwd Avg Bytes/Bulk', ' Fwd Avg Packets/Bulk',\n",
      "       ' Fwd Avg Bulk Rate', ' Bwd Avg Bytes/Bulk', ' Bwd Avg Packets/Bulk',\n",
      "       'Bwd Avg Bulk Rate', 'Subflow Fwd Packets', ' Subflow Fwd Bytes',\n",
      "       ' Subflow Bwd Packets', ' Subflow Bwd Bytes', 'Init_Win_bytes_forward',\n",
      "       ' Init_Win_bytes_backward', ' act_data_pkt_fwd',\n",
      "       ' min_seg_size_forward', 'Active Mean', ' Active Std', ' Active Max',\n",
      "       ' Active Min', 'Idle Mean', ' Idle Std', ' Idle Max', ' Idle Min',\n",
      "       ' Label'],\n",
      "      dtype='object')\n"
     ]
    },
    {
     "name": "stderr",
     "output_type": "stream",
     "text": [
      "C:\\Program Files (x86)\\Anaconda3\\lib\\site-packages\\ipykernel_launcher.py:49: DeprecationWarning: \n",
      ".ix is deprecated. Please use\n",
      ".loc for label based indexing or\n",
      ".iloc for positional indexing\n",
      "\n",
      "See the documentation here:\n",
      "http://pandas.pydata.org/pandas-docs/stable/indexing.html#ix-indexer-is-deprecated\n"
     ]
    },
    {
     "name": "stdout",
     "output_type": "stream",
     "text": [
      "Printing X\n",
      "[[5.4865e+04 3.0000e+00 2.0000e+00 ... 0.0000e+00 0.0000e+00 0.0000e+00]\n",
      " [5.5054e+04 1.0900e+02 1.0000e+00 ... 0.0000e+00 0.0000e+00 0.0000e+00]\n",
      " [5.5055e+04 5.2000e+01 1.0000e+00 ... 0.0000e+00 0.0000e+00 0.0000e+00]\n",
      " ...\n",
      " [6.1375e+04 7.5000e+01 1.0000e+00 ... 0.0000e+00 0.0000e+00 0.0000e+00]\n",
      " [6.1323e+04 4.8000e+01 2.0000e+00 ... 0.0000e+00 0.0000e+00 0.0000e+00]\n",
      " [6.1326e+04 6.8000e+01 1.0000e+00 ... 0.0000e+00 0.0000e+00 0.0000e+00]]\n"
     ]
    },
    {
     "data": {
      "image/png": "[encoded data removed]",
      "text/plain": [
       "<matplotlib.figure.Figure at 0x21627d87828>"
      ]
     },
     "metadata": {},
     "output_type": "display_data"
    }
   ],
   "source": [
    "import pandas as pd\n",
    "import numpy as np\n",
    "from sklearn.preprocessing import LabelEncoder\n",
    "from sklearn.preprocessing import StandardScaler\n",
    "from sklearn.cross_validation import train_test_split\n",
    "from sklearn.metrics import accuracy_score\n",
    "\n",
    "# visulaize the important characteristics of the dataset\n",
    "import matplotlib.pyplot as plt\n",
    "\n",
    "\n",
    "# step 1: download the data\n",
    "dataframe_all = pd.read_csv(r\"C:\\Users\\tbuyakar\\OneDrive - SecureWorks Inc\\Desktop\\Hackathon\\Friday-WorkingHours-Afternoon-DDos.pcap_ISCX.csv\")\n",
    "num_rows = dataframe_all.shape[0]\n",
    "\n",
    "# step 2: remove useless data\n",
    "# count the number of missing elements (NaN) in each column\n",
    "counter_nan = dataframe_all.isnull().sum()\n",
    "counter_without_nan = counter_nan[counter_nan==0]\n",
    "# remove the columns with missing elements\n",
    "#dataframe_all = dataframe_all[counter_without_nan.keys()]\n",
    "# remove the first 7 columns which contain no discriminative information\n",
    "#dataframe_all = dataframe_all.ix[:,7:]\n",
    "nunique = dataframe_all.apply(pd.Series.nunique)\n",
    "cols_to_drop = nunique[nunique == 1].index\n",
    "print(\"Dropping the columns of \")\n",
    "print(cols_to_drop)\n",
    "# the list of columns (the last column is the class label)\n",
    "columns = dataframe_all.columns\n",
    "dataframe_all = dataframe_all.drop(cols_to_drop, axis=1)\n",
    "dataframe_all = dataframe_all.drop(['Flow Bytes/s', ' Flow Packets/s'],axis=1)\n",
    "print(columns)\n",
    "\n",
    "\n",
    "\n",
    "\n",
    "#df = df[np.isfinite(df['EPS'])]\n",
    "dataframe_all.replace([np.inf, -np.inf], np.nan)\n",
    "dataframe_all.dropna()\n",
    "#dataframe_all = dataframe_all.drop(['Flow Bytes/s', ' Flow Packets/s'],axis=1)\n",
    "#imputer = Imputer(missing_values=np.nan,strategy = 'mean')\n",
    "#imputer = imputer.fit(x)\n",
    "#x = imputer.transform(x)\n",
    "\n",
    "# step 3: get features (x) and scale the features\n",
    "# get x and convert it to numpy array\n",
    "\n",
    "\n",
    "x = dataframe_all.ix[:,:-1].values\n",
    "print(\"Printing X\")\n",
    "print(x)\n",
    "standard_scaler = StandardScaler()\n",
    "\n",
    "x_std = standard_scaler.fit_transform(x)\n",
    "\n",
    "\n",
    "\n",
    "# step 4: get class labels y and then encode it into number \n",
    "# get class label data\n",
    "y = dataframe_all.ix[:,-1].values\n",
    "# encode the class label\n",
    "class_labels = np.unique(y)\n",
    "label_encoder = LabelEncoder()\n",
    "y = label_encoder.fit_transform(y)\n",
    "\n",
    "# step 5: split the data into training set and test set\n",
    "test_percentage = 0.1\n",
    "x_train, x_test, y_train, y_test = train_test_split(x_std, y, test_size = test_percentage, random_state = 0)\n",
    "\n",
    "# t-distributed Stochastic Neighbor Embedding (t-SNE) visualization\n",
    "from sklearn.manifold import TSNE\n",
    "tsne = TSNE(n_components=2, random_state=0)\n",
    "x_test_2d = tsne.fit_transform(x_test)\n",
    "\n",
    "# scatter plot the sample points among 5 classes\n",
    "markers=('s', 'd', 'o', '^', 'v')\n",
    "color_map = {0:'red', 1:'blue', 2:'lightgreen', 3:'purple', 4:'cyan'}\n",
    "plt.figure()\n",
    "for idx, cl in enumerate(np.unique(y_test)):\n",
    "    plt.scatter(x=x_test_2d[y_test==cl,0], y=x_test_2d[y_test==cl,1], c=color_map[idx], marker=markers[idx], label=cl)\n",
    "plt.xlabel('X in t-SNE')\n",
    "plt.ylabel('Y in t-SNE')\n",
    "plt.legend(loc='upper left')\n",
    "plt.title('t-SNE visualization of test data')\n",
    "plt.show()\n"
   ]
  },
  {
   "cell_type": "code",
   "execution_count": null,
   "metadata": {},
   "outputs": [],
   "source": []
  }
 ],
 "metadata": {
  "kernelspec": {
   "display_name": "Python 3",
   "language": "python",
   "name": "python3"
  },
  "language_info": {
   "codemirror_mode": {
    "name": "ipython",
    "version": 3
   },
   "file_extension": ".py",
   "mimetype": "text/x-python",
   "name": "python",
   "nbconvert_exporter": "python",
   "pygments_lexer": "ipython3",
   "version": "3.6.4"
  }
 },
 "nbformat": 4,
 "nbformat_minor": 2
}
